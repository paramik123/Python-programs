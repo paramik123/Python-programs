{
  "nbformat": 4,
  "nbformat_minor": 0,
  "metadata": {
    "colab": {
      "provenance": [],
      "authorship_tag": "ABX9TyOfzZYCaz92R/s7OVh9Hh2k",
      "include_colab_link": true
    },
    "kernelspec": {
      "name": "python3",
      "display_name": "Python 3"
    },
    "language_info": {
      "name": "python"
    }
  },
  "cells": [
    {
      "cell_type": "markdown",
      "metadata": {
        "id": "view-in-github",
        "colab_type": "text"
      },
      "source": [
        "<a href=\"https://colab.research.google.com/github/paramik123/Python-programs/blob/main/Leetcode_SQL_Top50.ipynb\" target=\"_parent\"><img src=\"https://colab.research.google.com/assets/colab-badge.svg\" alt=\"Open In Colab\"/></a>"
      ]
    },
    {
      "cell_type": "code",
      "execution_count": null,
      "metadata": {
        "id": "nWtebe7XNXve"
      },
      "outputs": [],
      "source": []
    },
    {
      "cell_type": "markdown",
      "source": [
        "**Leetcode SQL Top 50 problems**"
      ],
      "metadata": {
        "id": "44m9Vc_VNYUO"
      }
    },
    {
      "cell_type": "markdown",
      "source": [
        "1. Recyclable and Low Fat Products\n"
      ],
      "metadata": {
        "id": "KRIXwJR3Nkje"
      }
    },
    {
      "cell_type": "code",
      "source": [
        "select product_id from Products where low_fats='Y' and recyclable ='Y';"
      ],
      "metadata": {
        "id": "9cXgzuDGNchN"
      },
      "execution_count": null,
      "outputs": []
    },
    {
      "cell_type": "markdown",
      "source": [
        "2.  Find Customer Referee\n"
      ],
      "metadata": {
        "id": "BcbBqwy5NpnG"
      }
    },
    {
      "cell_type": "code",
      "source": [
        "SELECT name\n",
        "FROM customer\n",
        "WHERE referee_id IS NULL OR referee_id != 2;"
      ],
      "metadata": {
        "id": "HJwvzFkBNwhk"
      },
      "execution_count": null,
      "outputs": []
    },
    {
      "cell_type": "markdown",
      "source": [
        "3. Big Countries\n"
      ],
      "metadata": {
        "id": "kHTrnbMDN03-"
      }
    },
    {
      "cell_type": "code",
      "source": [
        "select name, population, area from World where area >=3000000 or population >= 25000000;"
      ],
      "metadata": {
        "id": "4urmAbxWN6Gm"
      },
      "execution_count": null,
      "outputs": []
    },
    {
      "cell_type": "markdown",
      "source": [
        "4. Article Views I\n"
      ],
      "metadata": {
        "id": "xZL0fyWdN9J-"
      }
    },
    {
      "cell_type": "code",
      "source": [
        "select distinct author_id as id from Views where author_id = viewer_id order by id;"
      ],
      "metadata": {
        "id": "Q8UF6rIKOGON"
      },
      "execution_count": null,
      "outputs": []
    },
    {
      "cell_type": "markdown",
      "source": [
        "5. Invalid Tweets\n"
      ],
      "metadata": {
        "id": "igG5l6TKOI2d"
      }
    },
    {
      "cell_type": "code",
      "source": [
        "select tweet_id from Tweets where length(content) >15;"
      ],
      "metadata": {
        "id": "BcT_QEGvONe2"
      },
      "execution_count": null,
      "outputs": []
    },
    {
      "cell_type": "markdown",
      "source": [
        "6. Replace Employee ID With The Unique Identifier\n"
      ],
      "metadata": {
        "id": "TybkSsSyOQS-"
      }
    },
    {
      "cell_type": "code",
      "source": [
        "SELECT Employees.name, EmployeeUNI.unique_id\n",
        "FROM Employees\n",
        "LEFT JOIN EmployeeUNI ON Employees.id=EmployeeUNI.id;"
      ],
      "metadata": {
        "id": "E9-OAKI3OacW"
      },
      "execution_count": null,
      "outputs": []
    },
    {
      "cell_type": "markdown",
      "source": [
        "7. Product Sales Analysis I\n"
      ],
      "metadata": {
        "id": "8A1KWsdvOckl"
      }
    },
    {
      "cell_type": "code",
      "source": [
        "select Product.product_name, Sales.year, Sales.price from Sales JOIN Product ON Sales.product_id = Product.product_id;"
      ],
      "metadata": {
        "id": "qSXCl0vvOhVu"
      },
      "execution_count": null,
      "outputs": []
    },
    {
      "cell_type": "markdown",
      "source": [
        "8. Customer Who Visited but Did Not Make Any Transactions"
      ],
      "metadata": {
        "id": "A9HP7rpnOjiW"
      }
    },
    {
      "cell_type": "code",
      "source": [
        "select v.customer_id,count(v.visit_id) as count_no_trans from Visits v left join Transactions t On v.visit_id=t.visit_id where transaction_id IS NULL group by v.customer_id;"
      ],
      "metadata": {
        "id": "woNsWiv1OsX9"
      },
      "execution_count": null,
      "outputs": []
    },
    {
      "cell_type": "markdown",
      "source": [
        "9. Rising Temperature\n"
      ],
      "metadata": {
        "id": "c2iJjDKrOv6E"
      }
    },
    {
      "cell_type": "code",
      "source": [
        "select a.id from Weather a, Weather b where a.temperature>b.temperature and datediff(a.recorddate,b.recorddate)=1"
      ],
      "metadata": {
        "id": "RGpQTF3rO0TO"
      },
      "execution_count": null,
      "outputs": []
    },
    {
      "cell_type": "markdown",
      "source": [
        "10. Employee Bonus\n"
      ],
      "metadata": {
        "id": "rRxdhuFKO2ed"
      }
    },
    {
      "cell_type": "code",
      "source": [
        "select a.name, b.bonus from Employee a left join bonus b on a.empId=b.empId where b.bonus is NULL or b.bonus<1000 ;"
      ],
      "metadata": {
        "id": "v40QWBb_O7Qw"
      },
      "execution_count": null,
      "outputs": []
    },
    {
      "cell_type": "markdown",
      "source": [
        "11. Managers with at Least 5 Direct Reports\n"
      ],
      "metadata": {
        "id": "Qs3nhsCIO9z9"
      }
    },
    {
      "cell_type": "code",
      "source": [
        "select name from Employee where id IN(\n",
        "select managerId from Employee group by managerId having count(id)>=5);"
      ],
      "metadata": {
        "id": "CgMkaNvuPEte"
      },
      "execution_count": null,
      "outputs": []
    },
    {
      "cell_type": "markdown",
      "source": [
        "12. Not Boring Movies\n"
      ],
      "metadata": {
        "id": "T_qvcTvePISW"
      }
    },
    {
      "cell_type": "code",
      "source": [
        "select id,movie, description, rating from Cinema where id%2=1 and description != \"boring\" order by rating desc;"
      ],
      "metadata": {
        "id": "8wvHEyOnPNa-"
      },
      "execution_count": null,
      "outputs": []
    },
    {
      "cell_type": "markdown",
      "source": [
        "13. Number of Unique Subjects Taught by Each Teacher\n"
      ],
      "metadata": {
        "id": "c8apsXOePQCO"
      }
    },
    {
      "cell_type": "code",
      "source": [
        "select teacher_id, count(distinct subject_id) as cnt from Teacher group by teacher_id;"
      ],
      "metadata": {
        "id": "bHkZEwQ1PXR2"
      },
      "execution_count": null,
      "outputs": []
    },
    {
      "cell_type": "markdown",
      "source": [
        "14. Classes More Than 5 Students\n"
      ],
      "metadata": {
        "id": "jm0-83axPZVG"
      }
    },
    {
      "cell_type": "code",
      "source": [
        "select class from Courses group by class having count(student)>=5;"
      ],
      "metadata": {
        "id": "G4zglAR-PhuX"
      },
      "execution_count": null,
      "outputs": []
    },
    {
      "cell_type": "markdown",
      "source": [
        "15. Find Followers Count\n"
      ],
      "metadata": {
        "id": "tc_wVr3SPjtG"
      }
    },
    {
      "cell_type": "code",
      "source": [
        "select user_id, count(distinct follower_id) as followers_count from Followers group by user_id;"
      ],
      "metadata": {
        "id": "egEr2HFbPoNV"
      },
      "execution_count": null,
      "outputs": []
    },
    {
      "cell_type": "markdown",
      "source": [
        "16. Biggest Single Number\n"
      ],
      "metadata": {
        "id": "aeEC7-zMPqc2"
      }
    },
    {
      "cell_type": "code",
      "source": [
        "select max(num) as num from (select num from MyNumbers group by num having count(num)=1) new;"
      ],
      "metadata": {
        "id": "ZNPswt_CP4eF"
      },
      "execution_count": null,
      "outputs": []
    },
    {
      "cell_type": "markdown",
      "source": [
        "17. Fix Names in a Table\n"
      ],
      "metadata": {
        "id": "eUodNvoIQPul"
      }
    },
    {
      "cell_type": "code",
      "source": [
        "SELECT user_id, CONCAT(UPPER(SUBSTR(name, 1, 1)), LOWER(SUBSTR(name, 2))) AS name\n",
        "FROM users\n",
        "ORDER BY user_id;"
      ],
      "metadata": {
        "id": "O4riD-uGQQu2"
      },
      "execution_count": null,
      "outputs": []
    },
    {
      "cell_type": "markdown",
      "source": [
        "18. Patients With a Condition\n"
      ],
      "metadata": {
        "id": "ZOQdGpgkQSnA"
      }
    },
    {
      "cell_type": "code",
      "source": [
        "SELECT *FROM Patients\n",
        "WHERE conditions LIKE '% DIAB1%' OR conditions LIKE 'DIAB1%'"
      ],
      "metadata": {
        "id": "rHl70vW0QW-2"
      },
      "execution_count": null,
      "outputs": []
    },
    {
      "cell_type": "markdown",
      "source": [
        "19. Delete Duplicate Emails\n"
      ],
      "metadata": {
        "id": "PKXsNn5nQZee"
      }
    },
    {
      "cell_type": "code",
      "source": [
        "delete p1 from Person p1,Person p2 where p1.Email = p2.Email And p1.Id > p2.Id\n"
      ],
      "metadata": {
        "id": "Z0jNCiL3Qern"
      },
      "execution_count": null,
      "outputs": []
    },
    {
      "cell_type": "markdown",
      "source": [],
      "metadata": {
        "id": "qFLc2fSaTIC2"
      }
    },
    {
      "cell_type": "markdown",
      "source": [
        "20. Second Highest Salary\n"
      ],
      "metadata": {
        "id": "hxWK1c4uQgxW"
      }
    },
    {
      "cell_type": "code",
      "source": [
        "select max(salary) as SecondHighestSalary from Employee where salary != (select max(salary) from Employee)"
      ],
      "metadata": {
        "id": "lb8rDD8VQkvG"
      },
      "execution_count": null,
      "outputs": []
    },
    {
      "cell_type": "markdown",
      "source": [
        "21. Group Sold Products By The Date\n"
      ],
      "metadata": {
        "id": "_aCI2jzhQnUn"
      }
    },
    {
      "cell_type": "code",
      "source": [
        "SELECT\n",
        "  sell_date,\n",
        "  COUNT(DISTINCT(product)) AS num_sold,\n",
        "  GROUP_CONCAT(DISTINCT(product)) AS products\n",
        "FROM Activities\n",
        "GROUP BY sell_date"
      ],
      "metadata": {
        "id": "cpM1iqe_Qru2"
      },
      "execution_count": null,
      "outputs": []
    },
    {
      "cell_type": "markdown",
      "source": [
        "22. Find Users With Valid E-Mails\n"
      ],
      "metadata": {
        "id": "Kw7ODqs6QuNP"
      }
    },
    {
      "cell_type": "code",
      "source": [
        "select user_id, name, mail from Users where mail regexp '^[a-zA-Z][a-zA-Z0-9_.-]*@leetcode[.]com';"
      ],
      "metadata": {
        "id": "SpuuHeryQyrP"
      },
      "execution_count": null,
      "outputs": []
    },
    {
      "cell_type": "markdown",
      "source": [
        "23. Customers Who Bought All Products\n"
      ],
      "metadata": {
        "id": "iB7DTSKVTJCn"
      }
    },
    {
      "cell_type": "code",
      "source": [
        "SELECT cusotmer_id from Customer GROUP BY customer_id HAVING count(distinct product_key) = (SELECT COUNT(product_key) from Product);"
      ],
      "metadata": {
        "id": "cCJk6s7JTKOW"
      },
      "execution_count": null,
      "outputs": []
    },
    {
      "cell_type": "markdown",
      "source": [
        "24. Triangle judgement"
      ],
      "metadata": {
        "id": "nIkLLa9jVtpW"
      }
    },
    {
      "cell_type": "code",
      "source": [
        "select x,y,z,\n",
        "CASE WHEN x+y<=z THEN \"No\"\n",
        "WHEN y+z<=x THEN \"No\"\n",
        "WHEN x+z<=y THEN \"No\"\n",
        "else\n",
        "\"Yes\" end as triangle from Triangle;"
      ],
      "metadata": {
        "id": "b5emG6gWVvjO"
      },
      "execution_count": null,
      "outputs": []
    },
    {
      "cell_type": "markdown",
      "source": [
        "25. Last person to fit in the bus"
      ],
      "metadata": {
        "id": "XsenI22zV64e"
      }
    },
    {
      "cell_type": "code",
      "source": [
        "with cte as (\n",
        "  select person_id, person_name, weight, turn, sum(weight) over (order by turn) as cum_weight\n",
        "  from Queue order by turn\n",
        ")\n",
        "\n",
        "select person_name from Queue where turn= (select max(turn) from cte where cum_weight <=1000);"
      ],
      "metadata": {
        "id": "qC3hE0Z-X8C2"
      },
      "execution_count": null,
      "outputs": []
    },
    {
      "cell_type": "markdown",
      "source": [
        "26. Consecutive numbers"
      ],
      "metadata": {
        "id": "2Li0mQWIX_Kf"
      }
    },
    {
      "cell_type": "code",
      "source": [
        "WITH cte AS\n",
        "(SELECT *, LEAD (num,1) OVER() AS next_1, LEAD (num,2) OVER() AS next_2 FROM logs)\n",
        "\n",
        "SELECT DISTINCT num AS ConsecutiveNums\n",
        "FROM cte where num=next_1 AND num=next_2;"
      ],
      "metadata": {
        "id": "CmE9LzUXYHXI"
      },
      "execution_count": null,
      "outputs": []
    },
    {
      "cell_type": "markdown",
      "source": [
        "27. The Number of Employees Which Report to Each Employee"
      ],
      "metadata": {
        "id": "7zdmlcXFM33H"
      }
    },
    {
      "cell_type": "code",
      "source": [
        "WITH cte AS\n",
        "(SELECT reports_to, COUNT(employee_id) AS reports_count,\n",
        "ROUND(avg(age),0) AS average_age FROM Employees where reports_to IS NOT NULL GROUP BY reports_to)\n",
        "\n",
        "select c.reports_to AS employee_id, e.name, c.reports_count, c.average_age\n",
        "FROM cte c\n",
        "LEFT JOIN Employees e\n",
        "ON c.reports_to=e.employee_id order by employee_id;"
      ],
      "metadata": {
        "id": "idI9Mit3M5ae"
      },
      "execution_count": null,
      "outputs": []
    },
    {
      "cell_type": "markdown",
      "source": [
        "28. Count Salary Categories\n"
      ],
      "metadata": {
        "id": "2N835-7YQ0zR"
      }
    },
    {
      "cell_type": "code",
      "source": [
        "# Write your MySQL query statement below\n",
        "select \"Low Salary\" as category, sum(CASE WHEN INCOME <20000 THEN 1 ELSE 0 END) AS accounts_count from Accounts\n",
        "UNION\n",
        "\n",
        "select \"Average Salary\" as category, sum(CASE WHEN INCOME BETWEEN 20000 AND 50000 THEN 1 ELSE 0 END) AS accounts_count from Accounts\n",
        "UNION\n",
        "select \"High Salary\" as category, sum(CASE WHEN INCOME >50000 THEN 1 ELSE 0 END) AS accounts_count from Accounts;\n"
      ],
      "metadata": {
        "id": "UNz654KkQ0Nq"
      },
      "execution_count": null,
      "outputs": []
    }
  ]
}