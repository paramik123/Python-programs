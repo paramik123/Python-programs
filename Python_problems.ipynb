{
  "nbformat": 4,
  "nbformat_minor": 0,
  "metadata": {
    "colab": {
      "provenance": [],
      "authorship_tag": "ABX9TyO0GzWRgq+kwXIg8wqQIoYB",
      "include_colab_link": true
    },
    "kernelspec": {
      "name": "python3",
      "display_name": "Python 3"
    },
    "language_info": {
      "name": "python"
    }
  },
  "cells": [
    {
      "cell_type": "markdown",
      "metadata": {
        "id": "view-in-github",
        "colab_type": "text"
      },
      "source": [
        "<a href=\"https://colab.research.google.com/github/paramik123/Python-programs/blob/main/Python_problems.ipynb\" target=\"_parent\"><img src=\"https://colab.research.google.com/assets/colab-badge.svg\" alt=\"Open In Colab\"/></a>"
      ]
    },
    {
      "cell_type": "code",
      "execution_count": null,
      "metadata": {
        "id": "WdNTzGxKj2Dp"
      },
      "outputs": [],
      "source": []
    },
    {
      "cell_type": "markdown",
      "source": [
        "**Top python problems asked in interviews**"
      ],
      "metadata": {
        "id": "TwtO6BDtj202"
      }
    },
    {
      "cell_type": "markdown",
      "source": [
        "1. Python program to find the largest among the three numbers"
      ],
      "metadata": {
        "id": "LDG0dMGhkCeB"
      }
    },
    {
      "cell_type": "code",
      "source": [
        "age1=int(input(\"Enter the first age\"));\n",
        "age2=int(input(\"Enter the second age\"));\n",
        "age3=int(input(\"Enter the third age\"));\n",
        "\n",
        "max=age1;\n",
        "if max<age2:\n",
        "  max=age2;\n",
        "if max<age3:\n",
        "  max=age3;\n",
        "print(max);"
      ],
      "metadata": {
        "colab": {
          "base_uri": "https://localhost:8080/"
        },
        "id": "2ofto7wgkBSD",
        "outputId": "f0ac129f-bafe-48b1-bdbe-0e8b4528990a"
      },
      "execution_count": null,
      "outputs": [
        {
          "output_type": "stream",
          "name": "stdout",
          "text": [
            "Enter the first age20\n",
            "Enter the second age30\n",
            "Enter the third age13\n",
            "30\n"
          ]
        }
      ]
    },
    {
      "cell_type": "markdown",
      "source": [
        "2. Convert celsius to fahrenheit"
      ],
      "metadata": {
        "id": "PV4ayKO8lJVH"
      }
    },
    {
      "cell_type": "code",
      "source": [
        "fahrenheit=int(input(\"Enter temperature\"));\n",
        "celsius=(5/9)*(fahrenheit-32);\n",
        "print(celsius);\n"
      ],
      "metadata": {
        "colab": {
          "base_uri": "https://localhost:8080/"
        },
        "id": "JCI2HunklPyG",
        "outputId": "80d3348d-6bd0-43b0-c58c-4fbf8ca5142c"
      },
      "execution_count": null,
      "outputs": [
        {
          "output_type": "stream",
          "name": "stdout",
          "text": [
            "Enter temperature40\n",
            "4.444444444444445\n"
          ]
        }
      ]
    },
    {
      "cell_type": "markdown",
      "source": [
        "3. Swap two variables using a third variable."
      ],
      "metadata": {
        "id": "QXCjNxt5l5f0"
      }
    },
    {
      "cell_type": "code",
      "source": [
        "number1=int(input(\"Enter first number\"));\n",
        "number2=int(input(\"Enter second number\"));\n",
        "temp=number1;\n",
        "number1=number2;\n",
        "number2=temp;\n",
        "print(number1);\n",
        "print(number2);"
      ],
      "metadata": {
        "colab": {
          "base_uri": "https://localhost:8080/"
        },
        "id": "AP3fUtadmAsv",
        "outputId": "ee472327-c51c-4b0f-cc14-635dba500224"
      },
      "execution_count": null,
      "outputs": [
        {
          "output_type": "stream",
          "name": "stdout",
          "text": [
            "Enter first number2\n",
            "Enter second number3\n",
            "3\n",
            "2\n"
          ]
        }
      ]
    },
    {
      "cell_type": "markdown",
      "source": [
        "4. Code to enter digits of a number given by a user"
      ],
      "metadata": {
        "id": "fwzN4TRym-Bz"
      }
    },
    {
      "cell_type": "code",
      "source": [
        "Number=int(input(\"Enter your three digit number\"));\n",
        "a=Number%10;\n",
        "Number=Number//10;\n",
        "b=Number%10;\n",
        "Number=Number//10;\n",
        "rev=(a+b+Number);\n",
        "print(rev);"
      ],
      "metadata": {
        "colab": {
          "base_uri": "https://localhost:8080/"
        },
        "id": "uvv1IlUsnB8-",
        "outputId": "882575e4-671e-4f70-e0cf-263042671098"
      },
      "execution_count": null,
      "outputs": [
        {
          "output_type": "stream",
          "name": "stdout",
          "text": [
            "Enter your three digit number342\n",
            "9\n"
          ]
        }
      ]
    },
    {
      "cell_type": "markdown",
      "source": [
        "5. Check if the number is even or odd."
      ],
      "metadata": {
        "id": "Q6dXrZH-oleu"
      }
    },
    {
      "cell_type": "code",
      "source": [
        "integer=int(input(\"Enter the number\"));\n",
        "if integer%2==0:\n",
        "  print(\"Number is even\");\n",
        "else:\n",
        "  print(\"Number is odd\");"
      ],
      "metadata": {
        "colab": {
          "base_uri": "https://localhost:8080/"
        },
        "id": "IcAfaxlAooxF",
        "outputId": "c3480921-e585-4dd6-f8ed-a0ca74b800e9"
      },
      "execution_count": null,
      "outputs": [
        {
          "output_type": "stream",
          "name": "stdout",
          "text": [
            "Enter the number4\n",
            "Number is even\n"
          ]
        }
      ]
    },
    {
      "cell_type": "markdown",
      "source": [
        "6. Print the reverse of a number"
      ],
      "metadata": {
        "id": "ymgZyoocyo3C"
      }
    },
    {
      "cell_type": "code",
      "source": [
        "num=int(input(\"Enter a number\"));\n",
        "a=num;\n",
        "b=a%10;\n",
        "num=num//10;\n",
        "c=num%10;\n",
        "num=num//10;\n",
        "d=num%10;\n",
        "e=num//10;\n",
        "rev=b*1000+c*100+d*10+e;\n",
        "print(rev);\n",
        "if num==rev:\n",
        "  print(\"True\");\n",
        "else:\n",
        "  print(\"False\");"
      ],
      "metadata": {
        "colab": {
          "base_uri": "https://localhost:8080/"
        },
        "id": "Cgbsir4Ayr49",
        "outputId": "577e8b41-5220-462b-c746-bc3b6c579850"
      },
      "execution_count": null,
      "outputs": [
        {
          "output_type": "stream",
          "name": "stdout",
          "text": [
            "Enter a number1234\n",
            "4321\n",
            "False\n"
          ]
        }
      ]
    },
    {
      "cell_type": "markdown",
      "source": [
        "7. Check if the year is a leap year"
      ],
      "metadata": {
        "id": "OEnocVVz0E-R"
      }
    },
    {
      "cell_type": "code",
      "source": [
        "year=int(input(\"Enter the year\"));\n",
        "if year%4==0:\n",
        "  print(\"Leap year\");\n",
        "else:\n",
        "  print(\"Not a leap year\");"
      ],
      "metadata": {
        "colab": {
          "base_uri": "https://localhost:8080/"
        },
        "id": "IJtu-U6V0Hj_",
        "outputId": "039ddc08-5e93-48fb-ddfd-cd23a68d66d8"
      },
      "execution_count": null,
      "outputs": [
        {
          "output_type": "stream",
          "name": "stdout",
          "text": [
            "Enter the year1997\n",
            "Not a leap year\n"
          ]
        }
      ]
    },
    {
      "cell_type": "markdown",
      "source": [
        "8. Find euclidean distance"
      ],
      "metadata": {
        "id": "80geaNig1BjY"
      }
    },
    {
      "cell_type": "code",
      "source": [
        "x_1=float(input(\"Enter x1 of x coordinate\"));\n",
        "x_2=float(input(\"Enter x2 of x coordinate\"));\n",
        "y_1=float(input(\"Enter y1 of y coordinate\"));\n",
        "y_2=float(input(\"Enter y2 of y coordinate\"));\n",
        "d=((x_2-x_1)**2+(y_2-y_1)**2)**0.5\n",
        "print(d);\n"
      ],
      "metadata": {
        "colab": {
          "base_uri": "https://localhost:8080/"
        },
        "id": "sCx1ncsj1Exo",
        "outputId": "eafe15e1-4407-484a-a8ce-2f1a2555e1df"
      },
      "execution_count": null,
      "outputs": [
        {
          "output_type": "stream",
          "name": "stdout",
          "text": [
            "Enter x1 of x coordinate2\n",
            "Enter x2 of x coordinate4\n",
            "Enter y1 of y coordinate4\n",
            "Enter y2 of y coordinate2.5\n",
            "2.5\n"
          ]
        }
      ]
    },
    {
      "cell_type": "code",
      "source": [],
      "metadata": {
        "id": "iJXQD1Xa86Ot"
      },
      "execution_count": null,
      "outputs": []
    },
    {
      "cell_type": "markdown",
      "source": [
        "9. Python program to check that the three angles make a triangle"
      ],
      "metadata": {
        "id": "K8PQpAQB86ob"
      }
    },
    {
      "cell_type": "code",
      "source": [
        "a= int(input(\"Enter first angle\"));\n",
        "b=int(input(\"Enter second angle\"));\n",
        "c=int(input(\"Enter third angle\"));\n",
        "if a+b+c==180 and a!=0 and b!=0 and c!=0:\n",
        "  print(\"It is triangle\");\n",
        "else:\n",
        "  print(\"It is not triangle\");"
      ],
      "metadata": {
        "colab": {
          "base_uri": "https://localhost:8080/"
        },
        "id": "_zuX4t6R9ACL",
        "outputId": "737c287f-04bc-4a6a-e0f6-6a4aec1fa8d5"
      },
      "execution_count": 1,
      "outputs": [
        {
          "output_type": "stream",
          "name": "stdout",
          "text": [
            "Enter first angle70\n",
            "Enter second angle110\n",
            "Enter third angle90\n",
            "It is not triangle\n"
          ]
        }
      ]
    },
    {
      "cell_type": "markdown",
      "source": [
        "10. Given cost price and selling price, find if its profit or loss."
      ],
      "metadata": {
        "id": "KLbhtuBE_MrG"
      }
    },
    {
      "cell_type": "code",
      "source": [
        "cp=float(input(\"Enter your cost price\"));\n",
        "\n",
        "sp=float(input(\"Enter your selling price\"));\n",
        "if cp>sp:\n",
        "  amount=cp-sp;\n",
        "  print(\"Loss\",amount);\n",
        "else:\n",
        "  amount=sp-cp;\n",
        "  print(\"Profit\", sp-cp);"
      ],
      "metadata": {
        "colab": {
          "base_uri": "https://localhost:8080/"
        },
        "id": "dLyuOQED_SR8",
        "outputId": "46c06bf0-386c-449d-bd6b-81ac8a9b88fd"
      },
      "execution_count": 5,
      "outputs": [
        {
          "output_type": "stream",
          "name": "stdout",
          "text": [
            "Enter your cost price34\n",
            "Enter your selling price40\n",
            "Profit 6.0\n"
          ]
        }
      ]
    },
    {
      "cell_type": "markdown",
      "source": [
        "11.Calculate simple interest"
      ],
      "metadata": {
        "id": "CMDD_bTNAUJE"
      }
    },
    {
      "cell_type": "code",
      "source": [
        "p=float(input(\"Enter your principal\"));\n",
        "r=float(input(\"Enter your rate of interest\"));\n",
        "t=int(input(\"Enter your time in years\"));\n",
        "si=(p*r*t)/100;\n",
        "print(si);\n",
        "a=p+si;\n",
        "print(a);"
      ],
      "metadata": {
        "colab": {
          "base_uri": "https://localhost:8080/"
        },
        "id": "iwpyHQ6fAe_k",
        "outputId": "26afddbe-78d4-4649-a0d9-dc1bf7b11bf4"
      },
      "execution_count": 7,
      "outputs": [
        {
          "output_type": "stream",
          "name": "stdout",
          "text": [
            "Enter your principal100\n",
            "Enter your rate of interest2.5\n",
            "Enter your time in years2\n",
            "5.0\n",
            "105.0\n"
          ]
        }
      ]
    },
    {
      "cell_type": "markdown",
      "source": [
        "12. Check if the number is divisible by both 3 and 6."
      ],
      "metadata": {
        "id": "jKwmIhceBSek"
      }
    },
    {
      "cell_type": "code",
      "source": [
        "number=int(input(\"Enter your number\"));\n",
        "if number%3==0 and number%6==0:\n",
        "  print(number,'is divisible by both 3 and 6');\n",
        "else:\n",
        "  print(number,'is not divisible by both 3 and 6');\n",
        ""
      ],
      "metadata": {
        "colab": {
          "base_uri": "https://localhost:8080/"
        },
        "id": "ah6E4T1HBVzd",
        "outputId": "ce99b600-903e-4e98-e299-24d7a167ffcd"
      },
      "execution_count": 8,
      "outputs": [
        {
          "output_type": "stream",
          "name": "stdout",
          "text": [
            "Enter your number12\n",
            "12 is divisible by both 3 and 6\n"
          ]
        }
      ]
    },
    {
      "cell_type": "markdown",
      "source": [
        "13. Write a program to find the sum of square of a given number."
      ],
      "metadata": {
        "id": "HEhrtbk_CF5M"
      }
    },
    {
      "cell_type": "code",
      "source": [
        "num=int(input(\"Enter a number\"));\n",
        "a=num%10;\n",
        "num=num//10;\n",
        "b=num%10;\n",
        "c=num//10;\n",
        "sum=(a**2)+(b**2)+(c**2);\n",
        "print(sum)\n"
      ],
      "metadata": {
        "colab": {
          "base_uri": "https://localhost:8080/"
        },
        "id": "oJxPlNbPCJ9k",
        "outputId": "be959238-a01f-4002-94e2-668c7cbf1864"
      },
      "execution_count": 9,
      "outputs": [
        {
          "output_type": "stream",
          "name": "stdout",
          "text": [
            "Enter a number234\n",
            "29\n"
          ]
        }
      ]
    },
    {
      "cell_type": "markdown",
      "source": [
        "14. Check if a given number is armstrong number or not."
      ],
      "metadata": {
        "id": "nD34LNppDJj2"
      }
    },
    {
      "cell_type": "code",
      "source": [
        "#same as above almost\n",
        "\n",
        "if (a**3)+(b**3)+(c**3)==user_input"
      ],
      "metadata": {
        "id": "XjD6PP2eDN7r"
      },
      "execution_count": null,
      "outputs": []
    }
  ]
}